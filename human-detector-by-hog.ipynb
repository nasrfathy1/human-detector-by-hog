{
 "cells": [
  {
   "cell_type": "code",
   "execution_count": null,
   "metadata": {
    "_cell_guid": "b1076dfc-b9ad-4769-8c92-a6c4dae69d19",
    "_uuid": "8f2839f25d086af736a60e9eeb907d3b93b6e0e5"
   },
   "outputs": [],
   "source": [
    "import cv2\n",
    "from imutils.object_detection import non_max_suppression\n",
    "import numpy as np\n",
    "cap=cv2.VideoCapture('/kaggle/input/input-video/test-video.mp4')\n",
    "hog=cv2.HOGDescriptor()\n",
    "hog.setSVMDetector(cv2.HOGDescriptor_getDefaultPeopleDetector())\n",
    "while cap.isOpened():\n",
    "    _,frame=cap.read()\n",
    "    image=cv2.cvtColor(frame,cv2.COLOR_BGR2GRAY)\n",
    "    boxs,_=hog.detectMultiScale(image,winStride=(4,4), padding=(8,8), scale=.5)\n",
    "    boxs=np.array([[x,y,x+w,y+h] for (x,y,w,h) in boxs])\n",
    "    non_max=non_max_suppression(boxs)\n",
    "    for box in non_max:\n",
    "        x,y,w,h=box\n",
    "        cv2.rectangle(frame,(x,y),(w,h),0,2)\n",
    "    cv2.imshow('frame',frame)\n",
    "    if cv2.waitKey(1)==27:\n",
    "        break\n",
    "cap.release()\n",
    "cv2.destroyAllWindows()\n",
    "    "
   ]
  },
  {
   "cell_type": "code",
   "execution_count": null,
   "metadata": {},
   "outputs": [],
   "source": []
  }
 ],
 "metadata": {
  "kernelspec": {
   "display_name": "Python 3 (ipykernel)",
   "language": "python",
   "name": "python3"
  },
  "language_info": {
   "codemirror_mode": {
    "name": "ipython",
    "version": 3
   },
   "file_extension": ".py",
   "mimetype": "text/x-python",
   "name": "python",
   "nbconvert_exporter": "python",
   "pygments_lexer": "ipython3",
   "version": "3.10.9"
  }
 },
 "nbformat": 4,
 "nbformat_minor": 4
}
